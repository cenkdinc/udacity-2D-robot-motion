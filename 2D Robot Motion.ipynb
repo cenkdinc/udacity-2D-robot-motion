{
 "cells": [
  {
   "cell_type": "code",
   "execution_count": 1,
   "metadata": {},
   "outputs": [],
   "source": [
    "## UDACITY - Introduction to Self-Driving Cars\n",
    "## CHAPTER-8 LESSON-3 \n",
    "## 2D Robot Motion and Trigonometry\n",
    "\n",
    "import numpy as np\n",
    "from math import sin, cos, pi\n",
    "from matplotlib import pyplot as plt\n",
    "\n",
    "class Vehicle:\n",
    "    def __init__(self):  #vehicle at (0,0), heading:E\n",
    "        self.x       = 0.0 \n",
    "        self.y       = 0.0\n",
    "        self.heading = 0.0 # radians\n",
    "        self.history = []\n",
    "        \n",
    "    def drive_forward(self, displacement):     \n",
    "        # Updates (x,y) based on current heading and given displacement as argument\n",
    "        # appends previous (x,y) to history.\n",
    "        \n",
    "        delta_x = displacement*np.cos(self.heading)\n",
    "        delta_y = displacement*np.sin(self.heading)\n",
    "        \n",
    "        self.history.append((self.x, self.y))\n",
    "        self.x += delta_x\n",
    "        self.y += delta_y   \n",
    "    \n",
    "    def set_heading(self, heading_in_degrees):  \n",
    "        self.heading = heading_in_degrees * pi / 180 \n",
    "        return self.heading\n",
    "       \n",
    "    def turn(self, angle_in_degrees):\n",
    "        \n",
    "        angle_in_radians = angle_in_degrees * pi / 180\n",
    "        self.heading += angle_in_radians\n",
    "    \n",
    "    def show_trajectory(self):  #creates scatter plot of trajectory\n",
    "        X = [p[0] for p in self.history]\n",
    "        Y = [p[1] for p in self.history]\n",
    "        \n",
    "        X.append(self.x) #self.history e son olarak en guncel x i ekliyor\n",
    "        Y.append(self.y)\n",
    "        \n",
    "        plt.scatter(X,Y)\n",
    "        plt.plot(X,Y)\n",
    "        plt.show()"
   ]
  },
  {
   "cell_type": "code",
   "execution_count": 2,
   "metadata": {},
   "outputs": [
    {
     "name": "stdout",
     "output_type": "stream",
     "text": [
      "Your set_heading function looks good!\n",
      "Congratulations! Your vehicle's drive_forward method works\n"
     ]
    }
   ],
   "source": [
    "# Use this testing code to check your code for correctness.\n",
    "from testing import test_drive_forward, test_set_heading\n",
    "\n",
    "test_set_heading(Vehicle)\n",
    "test_drive_forward(Vehicle)"
   ]
  },
  {
   "cell_type": "code",
   "execution_count": 3,
   "metadata": {
    "scrolled": true
   },
   "outputs": [
    {
     "data": {
      "image/png": "[encoded data removed]",
      "text/plain": [
       "<Figure size 432x288 with 1 Axes>"
      ]
     },
     "metadata": {
      "needs_background": "light"
     },
     "output_type": "display_data"
    }
   ],
   "source": [
    "# You'll have to \"test\" your show_trajectory method visually. \n",
    "\n",
    "# instantiate vehicle\n",
    "v = Vehicle()\n",
    "\n",
    "# drive forward 10 meters\n",
    "v.drive_forward(10)\n",
    "\n",
    "# turn left in 10 increments of 9 degrees each.\n",
    "for _ in range(10):\n",
    "    v.turn(9.0)\n",
    "    v.drive_forward(1)\n",
    "\n",
    "v.drive_forward(10)\n",
    "\n",
    "v.show_trajectory()"
   ]
  }
 ],
 "metadata": {
  "kernelspec": {
   "display_name": "Python 3",
   "language": "python",
   "name": "python3"
  },
  "language_info": {
   "codemirror_mode": {
    "name": "ipython",
    "version": 3
   },
   "file_extension": ".py",
   "mimetype": "text/x-python",
   "name": "python",
   "nbconvert_exporter": "python",
   "pygments_lexer": "ipython3",
   "version": "3.8.5"
  }
 },
 "nbformat": 4,
 "nbformat_minor": 4
}
